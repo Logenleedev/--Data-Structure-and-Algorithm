{
 "cells": [
  {
   "cell_type": "markdown",
   "id": "0a55ef1b",
   "metadata": {},
   "source": [
    "## Train Test Split for cross validation "
   ]
  },
  {
   "cell_type": "code",
   "execution_count": 11,
   "id": "815f5567",
   "metadata": {},
   "outputs": [],
   "source": [
    "import numpy as np\n",
    "from sklearn.model_selection import train_test_split\n",
    "from sklearn import datasets\n",
    "from sklearn import svm\n",
    "from sklearn.model_selection import cross_val_score"
   ]
  },
  {
   "cell_type": "code",
   "execution_count": 2,
   "id": "d6bad2ed",
   "metadata": {},
   "outputs": [],
   "source": [
    "X, y = datasets.load_iris(return_X_y=True)"
   ]
  },
  {
   "cell_type": "code",
   "execution_count": 4,
   "id": "b77e9265",
   "metadata": {},
   "outputs": [
    {
     "data": {
      "text/plain": [
       "((150, 4), (150,))"
      ]
     },
     "execution_count": 4,
     "metadata": {},
     "output_type": "execute_result"
    }
   ],
   "source": [
    "X.shape, y.shape"
   ]
  },
  {
   "cell_type": "markdown",
   "id": "a46bc1df",
   "metadata": {},
   "source": [
    "We can now quickly sample a training set while holding out 40% of the data for testing (evaluating) our classifier:"
   ]
  },
  {
   "cell_type": "code",
   "execution_count": 5,
   "id": "5c219886",
   "metadata": {},
   "outputs": [],
   "source": [
    "X_train, X_test, y_train, y_test = train_test_split(X, y, test_size=0.4, random_state=0)"
   ]
  },
  {
   "cell_type": "code",
   "execution_count": 6,
   "id": "2017f4f5",
   "metadata": {},
   "outputs": [
    {
     "data": {
      "text/plain": [
       "((90, 4), (90,))"
      ]
     },
     "execution_count": 6,
     "metadata": {},
     "output_type": "execute_result"
    }
   ],
   "source": [
    "X_train.shape, y_train.shape"
   ]
  },
  {
   "cell_type": "code",
   "execution_count": 7,
   "id": "6972c314",
   "metadata": {},
   "outputs": [
    {
     "data": {
      "text/plain": [
       "((60, 4), (60,))"
      ]
     },
     "execution_count": 7,
     "metadata": {},
     "output_type": "execute_result"
    }
   ],
   "source": [
    "X_test.shape, y_test.shape"
   ]
  },
  {
   "cell_type": "markdown",
   "id": "e9739a1c",
   "metadata": {},
   "source": [
    "Doing a simple SVM regression "
   ]
  },
  {
   "cell_type": "code",
   "execution_count": 8,
   "id": "61657ed0",
   "metadata": {},
   "outputs": [],
   "source": [
    "clf = svm.SVC(kernel='linear', C=1).fit(X_train, y_train)"
   ]
  },
  {
   "cell_type": "code",
   "execution_count": 9,
   "id": "a0f92444",
   "metadata": {},
   "outputs": [
    {
     "data": {
      "text/plain": [
       "0.9666666666666667"
      ]
     },
     "execution_count": 9,
     "metadata": {},
     "output_type": "execute_result"
    }
   ],
   "source": [
    "clf.score(X_test, y_test)"
   ]
  },
  {
   "cell_type": "code",
   "execution_count": 12,
   "id": "7dc6500a",
   "metadata": {},
   "outputs": [],
   "source": [
    "scores = cross_val_score(clf, X, y, cv=5)"
   ]
  },
  {
   "cell_type": "code",
   "execution_count": 13,
   "id": "65874e65",
   "metadata": {},
   "outputs": [
    {
     "data": {
      "text/plain": [
       "array([0.96666667, 1.        , 0.96666667, 0.96666667, 1.        ])"
      ]
     },
     "execution_count": 13,
     "metadata": {},
     "output_type": "execute_result"
    }
   ],
   "source": [
    "scores"
   ]
  },
  {
   "cell_type": "code",
   "execution_count": 15,
   "id": "d85776e3",
   "metadata": {},
   "outputs": [
    {
     "name": "stdout",
     "output_type": "stream",
     "text": [
      "0.98 accuracy with a standard deviation of 0.02\n"
     ]
    }
   ],
   "source": [
    "print(\"%0.2f accuracy with a standard deviation of %0.2f\" % (scores.mean(), scores.std()))"
   ]
  },
  {
   "cell_type": "markdown",
   "id": "e551ad71",
   "metadata": {},
   "source": [
    "## Preprocessing"
   ]
  },
  {
   "cell_type": "markdown",
   "id": "31e1f93d",
   "metadata": {},
   "source": [
    "For many machine learning models, various preprocessing techniques not only help improve efficiency, but often are important for ensuring meaningful results.\n",
    "\n",
    "- StandardScaler (aka Z-score)\n",
    "- Normalizer (vector normalization)\n",
    "- Binarizer The typical process is:\n",
    "    - Choose appropriate preprocessing method and import it\n",
    "    - Construct a rescale object by fitting the chosen method to the training set only!\n",
    "    - Transform your training, validation, and test sets using constructed rescale object.\n"
   ]
  },
  {
   "cell_type": "code",
   "execution_count": null,
   "id": "ded02aad",
   "metadata": {},
   "outputs": [],
   "source": [
    "# Example:  Standarization / Z Scoring\n",
    "#   -- the procedure is the same for Normalizer and Binarizer\n",
    "from sklearn.preprocessing import StandardScaler\n",
    "rescale = StandardScalar.fit(x_trn)\n",
    "xx_trn = rescale.transform(x_trn)\n",
    "xx_val = rescale.transform(x_val)\n",
    "xx_tst = rescale.transform(x_tst)"
   ]
  },
  {
   "cell_type": "markdown",
   "id": "725d6daf",
   "metadata": {},
   "source": [
    "## Modeling / 算法"
   ]
  },
  {
   "cell_type": "markdown",
   "id": "75958481",
   "metadata": {},
   "source": [
    "Scikit-Learn makes modeling really easy. The recipe is:\n",
    "\n",
    "1. Construct\n",
    "2. Fit\n",
    "3. Predict\n",
    "4. Evaluate\n",
    "\n"
   ]
  },
  {
   "cell_type": "markdown",
   "id": "426129ee",
   "metadata": {},
   "source": [
    "### Supervised Learning "
   ]
  },
  {
   "cell_type": "markdown",
   "id": "f5f65299",
   "metadata": {},
   "source": [
    "### Supervised Learning - Linear Regression"
   ]
  },
  {
   "cell_type": "code",
   "execution_count": null,
   "id": "6859d513",
   "metadata": {},
   "outputs": [],
   "source": [
    "from skearn.linear_model import LinearRegression\n",
    "model = LinearRegression()\n",
    "model.fit(xx_trn, y_tr)\n",
    "y_pred = model.predict(xx_val)"
   ]
  },
  {
   "cell_type": "markdown",
   "id": "24c3a576",
   "metadata": {},
   "source": [
    "### Supervised Learning - Logistic Regression"
   ]
  },
  {
   "cell_type": "code",
   "execution_count": null,
   "id": "06f75ab0",
   "metadata": {},
   "outputs": [],
   "source": [
    "from skearn.linear_model import LogisticRegression\n",
    "model = LogisticRegression()\n",
    "model.fit(xx_trn, y_tr)\n",
    "y_pred = model.predict(xx_val)"
   ]
  },
  {
   "cell_type": "markdown",
   "id": "ca1f3808",
   "metadata": {},
   "source": [
    "### Supervised Learning - SVM"
   ]
  },
  {
   "cell_type": "code",
   "execution_count": null,
   "id": "0e85065c",
   "metadata": {},
   "outputs": [],
   "source": [
    "from skearn.svm import SVC\n",
    "model = SVC(kernel='linear') # other kernels: polynomial, rbf, sigmoid\n",
    "model.fit(xx_trn, y_tr)\n",
    "y_pred = model.predict(xx_val)"
   ]
  },
  {
   "cell_type": "markdown",
   "id": "bc75c0e1",
   "metadata": {},
   "source": [
    "### Supervised Learning - Naive Bayes"
   ]
  },
  {
   "cell_type": "code",
   "execution_count": null,
   "id": "4f31ba4e",
   "metadata": {},
   "outputs": [],
   "source": [
    "from skearn.naive_bayes import GaussianNB\n",
    "model = GaussianNB()\n",
    "model.fit(xx_trn, y_tr)\n",
    "y_pred = model.predict(xx_val)"
   ]
  },
  {
   "cell_type": "markdown",
   "id": "dd41d3e2",
   "metadata": {},
   "source": [
    "### Supervised Learning - knn"
   ]
  },
  {
   "cell_type": "code",
   "execution_count": null,
   "id": "a0d7c038",
   "metadata": {},
   "outputs": [],
   "source": [
    "from skearn.neighbors import KNeighborsClassifier\n",
    "model = KNeighborsClassifier(n_neighbors=3)\n",
    "model.fit(xx_trn, y_tr)\n",
    "y_pred = model.predict(xx_val)"
   ]
  },
  {
   "cell_type": "markdown",
   "id": "a80fb6f8",
   "metadata": {},
   "source": [
    "### Supervised Learning - decision tree"
   ]
  },
  {
   "cell_type": "code",
   "execution_count": null,
   "id": "537f8d17",
   "metadata": {},
   "outputs": [],
   "source": [
    "from skearn.tree import DecisionTreeClassifier\n",
    "model = DecisionTreeClassifier(criterion='entropy', max_depth=10, random_state=0)\n",
    "model.fit(x_trn, y_tr)  # Vars do not have to be normalized/standardized for DTs!\n",
    "y_pred = model.predict(x_val)"
   ]
  },
  {
   "cell_type": "markdown",
   "id": "5a1786cd",
   "metadata": {},
   "source": [
    "### Supervised Learning - Gradient Boosting"
   ]
  },
  {
   "cell_type": "code",
   "execution_count": null,
   "id": "540eb03e",
   "metadata": {},
   "outputs": [],
   "source": [
    "from skearn.ensemble import GradientBoostinClassifier\n",
    "model = GradientBoostinClassifier(max_depth=5, n_estimators=1000, \n",
    "  subsample=0.5, random_state=0, learning_rate=0.001)\n",
    "model.fit(x_trn, y_tr)  # Vars do not have to be normalized/standardized for DTs!\n",
    "y_pred = model.predict(x_val)"
   ]
  },
  {
   "cell_type": "markdown",
   "id": "bfa885c2",
   "metadata": {},
   "source": [
    "### Supervised Learning - Gradient Boosting"
   ]
  },
  {
   "cell_type": "code",
   "execution_count": null,
   "id": "1ed781f8",
   "metadata": {},
   "outputs": [],
   "source": [
    "from skearn.ensemble import RandomForestClassifier\n",
    "model = RandomForestClassifier(n_estimators=1000, criterion='entropy', \n",
    "   n_jobs=4, max_depth=10)\n",
    "model.fit(x_trn, y_tr)  # Vars do not have to be normalized/standardized for DTs!\n",
    "y_pred = model.predict(x_val)"
   ]
  },
  {
   "cell_type": "markdown",
   "id": "dfb80943",
   "metadata": {},
   "source": [
    "### UnSupervised Learning"
   ]
  },
  {
   "cell_type": "markdown",
   "id": "adad8c52",
   "metadata": {},
   "source": [
    "### UnSupervised Learning - PCA"
   ]
  },
  {
   "cell_type": "code",
   "execution_count": null,
   "id": "632a1fce",
   "metadata": {},
   "outputs": [],
   "source": [
    "from skearn.decomposition import PCA\n",
    "model = PCA(n_components=0.95)\n",
    "model.fit(xx_trn, y_tr)\n",
    "#y_pred = model.predict(xx_val)"
   ]
  },
  {
   "cell_type": "markdown",
   "id": "ae93b5d1",
   "metadata": {},
   "source": [
    "### UnSupervised Learning - k-Means Clustering"
   ]
  },
  {
   "cell_type": "code",
   "execution_count": null,
   "id": "90434f0c",
   "metadata": {},
   "outputs": [],
   "source": [
    "from skearn.cluster import KMeans\n",
    "model = KMeans(n_clusters=3, random_state=1)\n",
    "model.fit(xx_trn, y_tr)\n",
    "#y_pred = model.predict(xx_val)"
   ]
  }
 ],
 "metadata": {
  "kernelspec": {
   "display_name": "Python 3 (ipykernel)",
   "language": "python",
   "name": "python3"
  },
  "language_info": {
   "codemirror_mode": {
    "name": "ipython",
    "version": 3
   },
   "file_extension": ".py",
   "mimetype": "text/x-python",
   "name": "python",
   "nbconvert_exporter": "python",
   "pygments_lexer": "ipython3",
   "version": "3.8.18"
  }
 },
 "nbformat": 4,
 "nbformat_minor": 5
}
